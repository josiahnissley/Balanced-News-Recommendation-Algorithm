{
 "cells": [
  {
   "cell_type": "markdown",
   "id": "204380ec",
   "metadata": {},
   "source": [
    "# Import Packages & Create Dataframe"
   ]
  },
  {
   "cell_type": "code",
   "execution_count": 1,
   "id": "8f3d8da3",
   "metadata": {},
   "outputs": [],
   "source": [
    "#import packages\n",
    "import pandas as pd\n",
    "from sklearn.model_selection import train_test_split\n",
    "from sklearn.metrics import accuracy_score, precision_score, recall_score, f1_score, roc_auc_score, mean_squared_error\n",
    "from sklearn.linear_model import LogisticRegression\n",
    "from sklearn.ensemble import RandomForestClassifier\n",
    "from sklearn.neighbors import KNeighborsClassifier\n",
    "from xgboost import XGBClassifier\n",
    "from sklearn.model_selection import GridSearchCV\n",
    "import numpy as np\n",
    "from skopt import BayesSearchCV"
   ]
  },
  {
   "cell_type": "code",
   "execution_count": 2,
   "id": "bc224c49",
   "metadata": {},
   "outputs": [],
   "source": [
    "#import behaviors file\n",
    "behaviors = pd.read_csv(r\"C:\\Users\\josia\\Desktop\\Capstone_Project\\MINDlarge_train\\behaviors.tsv\", sep='\\t')"
   ]
  },
  {
   "cell_type": "code",
   "execution_count": 3,
   "id": "9be9ae64",
   "metadata": {},
   "outputs": [],
   "source": [
    "#convert behavior data to dataframe\n",
    "b_df = pd.DataFrame(behaviors)"
   ]
  },
  {
   "cell_type": "markdown",
   "id": "d240a15d",
   "metadata": {},
   "source": [
    "# Examine Dataframe"
   ]
  },
  {
   "cell_type": "code",
   "execution_count": 4,
   "id": "93c4cf7f",
   "metadata": {},
   "outputs": [
    {
     "name": "stdout",
     "output_type": "stream",
     "text": [
      "<class 'pandas.core.frame.DataFrame'>\n",
      "RangeIndex: 2232747 entries, 0 to 2232746\n",
      "Data columns (total 5 columns):\n",
      " #   Column                                                                                                                                                                     Dtype \n",
      "---  ------                                                                                                                                                                     ----- \n",
      " 0   1                                                                                                                                                                          int64 \n",
      " 1   U87243                                                                                                                                                                     object\n",
      " 2   11/10/2019 11:30:54 AM                                                                                                                                                     object\n",
      " 3   N8668 N39081 N65259 N79529 N73408 N43615 N29379 N32031 N110232 N101921 N12614 N129591 N105760 N60457 N1229 N64932                                                          object\n",
      " 4   N78206-0 N26368-0 N7578-0 N58592-0 N19858-0 N58258-0 N18478-0 N2591-0 N97778-0 N32954-0 N94157-1 N39404-0 N108809-0 N78699-1 N71090-1 N40282-0 N31174-1 N37924-0 N27822-0  object\n",
      "dtypes: int64(1), object(4)\n",
      "memory usage: 85.2+ MB\n"
     ]
    }
   ],
   "source": [
    "b_df.info()"
   ]
  },
  {
   "cell_type": "code",
   "execution_count": 5,
   "id": "3580243e",
   "metadata": {},
   "outputs": [
    {
     "name": "stdout",
     "output_type": "stream",
     "text": [
      "   1   U87243  11/10/2019 11:30:54 AM  \\\n",
      "0  2  U598644   11/12/2019 1:45:29 PM   \n",
      "1  3  U532401  11/13/2019 11:23:03 AM   \n",
      "2  4  U593596  11/12/2019 12:24:09 PM   \n",
      "3  5  U239687   11/14/2019 8:03:01 PM   \n",
      "4  6  U521853  11/11/2019 10:47:31 AM   \n",
      "\n",
      "  N8668 N39081 N65259 N79529 N73408 N43615 N29379 N32031 N110232 N101921 N12614 N129591 N105760 N60457 N1229 N64932  \\\n",
      "0  N56056 N8726 N70353 N67998 N83823 N111108 N107...                                                                  \n",
      "1  N128643 N87446 N122948 N9375 N82348 N129412 N5...                                                                  \n",
      "2  N31043 N39592 N4104 N8223 N114581 N92747 N1207...                                                                  \n",
      "3  N65250 N122359 N71723 N53796 N41663 N41484 N11...                                                                  \n",
      "4  N8668 N29136 N128643 N9740 N9375 N52911 N12090...                                                                  \n",
      "\n",
      "  N78206-0 N26368-0 N7578-0 N58592-0 N19858-0 N58258-0 N18478-0 N2591-0 N97778-0 N32954-0 N94157-1 N39404-0 N108809-0 N78699-1 N71090-1 N40282-0 N31174-1 N37924-0 N27822-0  \n",
      "0  N47996-0 N82719-0 N117066-0 N8491-0 N123784-0 ...                                                                                                                         \n",
      "1              N103852-0 N53474-0 N127836-0 N47925-1                                                                                                                         \n",
      "2  N38902-0 N76434-0 N71593-0 N100073-0 N108736-0...                                                                                                                         \n",
      "3  N76209-0 N48841-0 N67937-0 N62235-0 N6307-0 N3...                                                                                                                         \n",
      "4                N32154-0 N67747-0 N47257-0 N98178-1                                                                                                                         \n"
     ]
    }
   ],
   "source": [
    "print(b_df.head())"
   ]
  },
  {
   "cell_type": "code",
   "execution_count": 6,
   "id": "d802e24f",
   "metadata": {},
   "outputs": [],
   "source": [
    "#Create column names based on dataset legend found elsewhere\n",
    "b_column_names = ['Impression_ID', 'User_ID', 'Time', 'History', 'Impressions']\n",
    "b_df.columns = b_column_names"
   ]
  },
  {
   "cell_type": "markdown",
   "id": "cadf43c7",
   "metadata": {},
   "source": [
    "# Take Sample of DataFrame"
   ]
  },
  {
   "cell_type": "code",
   "execution_count": 7,
   "id": "fd2fbf48",
   "metadata": {},
   "outputs": [],
   "source": [
    "b_df = b_df.sample(n=5000, random_state=1)"
   ]
  },
  {
   "cell_type": "markdown",
   "id": "81039e12",
   "metadata": {},
   "source": [
    "# Data Legend & Next Steps"
   ]
  },
  {
   "cell_type": "raw",
   "id": "41e89dd9",
   "metadata": {},
   "source": [
    "Behavior Data: \n",
    "\n",
    "Impression ID = The ID of an impression.\n",
    "User ID = The anonymous ID of a user.\n",
    "Time = The impression time with format “MM/DD/YYYY HH:MM:SS AM/PM”.\n",
    "History = The news click history (ID list of clicked news) of this user before this impression.\n",
    "Impressions = List of news displayed in this impression and user’s click behaviors on them (1 for click and 0 for non-click).\n",
    "\n",
    "COLUMN\tCONTENT\n",
    "Impression ID:\t123\n",
    "User ID:\tU131\n",
    "Time:\t11/13/2019 8:36:57 AM\n",
    "History:\tN11 N21 N103\n",
    "Impressions:\tN4-1 N34-1 N156-0 N207-0 N198-0\n",
    "\n",
    "\n",
    "______________________________________________________________________________\n",
    "\n",
    "\n",
    "What columns do I need to create?\n",
    "\n",
    "   -  User ID col\n",
    "   -  Article ID col\n",
    "   -  Interaction col"
   ]
  },
  {
   "cell_type": "markdown",
   "id": "5715d617",
   "metadata": {},
   "source": [
    "# Data Wrangling"
   ]
  },
  {
   "cell_type": "code",
   "execution_count": 8,
   "id": "ca63dbd5",
   "metadata": {},
   "outputs": [
    {
     "name": "stdout",
     "output_type": "stream",
     "text": [
      "         User_ID                                            History  \\\n",
      "1837023  U591810                                N91352 N4555 N88075   \n",
      "1328700   U21881  N1128 N79529 N45491 N79909 N104091 N53933 N852...   \n",
      "1645076   U71066  N81496 N116312 N20359 N29595 N104200 N57016 N3...   \n",
      "2155197  U455452  N109183 N63078 N91173 N45756 N122766 N9979 N82...   \n",
      "527583   U240645               N127644 N40915 N27226 N120031 N27763   \n",
      "\n",
      "                                               Impressions  \n",
      "1837023  N67123-0 N100343-0 N23823-0 N8719-0 N11682-0 N...  \n",
      "1328700  N8599-0 N8236-0 N56873-0 N76665-0 N51163-0 N65...  \n",
      "1645076       N53474-0 N5287-0 N113723-1 N24701-1 N76677-0  \n",
      "2155197  N90184-0 N67937-0 N81374-0 N15403-1 N48015-0 N...  \n",
      "527583   N96356-0 N73137-0 N52435-0 N31766-0 N118589-0 ...  \n"
     ]
    }
   ],
   "source": [
    "#Drop 'Impression_ID' and 'Time' columns as they do not pertain to my use case\n",
    "columns_to_drop = ['Impression_ID', 'Time']\n",
    "b_df = b_df.drop(columns = columns_to_drop)\n",
    "print(b_df.head())"
   ]
  },
  {
   "cell_type": "code",
   "execution_count": 9,
   "id": "c3192f84",
   "metadata": {},
   "outputs": [],
   "source": [
    "#Group data by User ID\n",
    "b_df_g = b_df.sort_values(by = 'User_ID')"
   ]
  },
  {
   "cell_type": "code",
   "execution_count": 10,
   "id": "78e24f63",
   "metadata": {},
   "outputs": [
    {
     "name": "stdout",
     "output_type": "stream",
     "text": [
      "User_ID         0\n",
      "History        97\n",
      "Impressions     0\n",
      "dtype: int64\n"
     ]
    }
   ],
   "source": [
    "#Check for missing values\n",
    "b_df_g_missing = b_df_g.isnull().sum()\n",
    "print(b_df_g_missing)"
   ]
  },
  {
   "cell_type": "code",
   "execution_count": 11,
   "id": "5998479a",
   "metadata": {},
   "outputs": [],
   "source": [
    "#Examine type of missing value\n",
    "b_df_g_hist_miss = b_df_g['History'].isnull()"
   ]
  },
  {
   "cell_type": "code",
   "execution_count": 12,
   "id": "821b28d1",
   "metadata": {},
   "outputs": [
    {
     "name": "stdout",
     "output_type": "stream",
     "text": [
      "746803     False\n",
      "1007026    False\n",
      "1788588    False\n",
      "1044349    False\n",
      "98296      False\n",
      "           ...  \n",
      "933641     False\n",
      "1941382     True\n",
      "785973     False\n",
      "811970     False\n",
      "1788046    False\n",
      "Name: History, Length: 5000, dtype: bool\n"
     ]
    }
   ],
   "source": [
    "print(b_df_g_hist_miss)"
   ]
  },
  {
   "cell_type": "code",
   "execution_count": 13,
   "id": "28c93a7d",
   "metadata": {},
   "outputs": [
    {
     "name": "stdout",
     "output_type": "stream",
     "text": [
      "User_ID        0\n",
      "History        0\n",
      "Impressions    0\n",
      "dtype: int64\n"
     ]
    }
   ],
   "source": [
    "#Drop all rows with missing value\n",
    "b_df_g_drop = b_df_g.dropna()\n",
    "print(b_df_g_drop.isnull().sum())"
   ]
  },
  {
   "cell_type": "code",
   "execution_count": 14,
   "id": "02cbb9fa",
   "metadata": {},
   "outputs": [
    {
     "name": "stdout",
     "output_type": "stream",
     "text": [
      "4903\n"
     ]
    }
   ],
   "source": [
    "#Check to see how many remaining rows with data there are\n",
    "print(b_df_g_drop.shape[0])"
   ]
  },
  {
   "cell_type": "code",
   "execution_count": 15,
   "id": "19dcb5cc",
   "metadata": {},
   "outputs": [],
   "source": [
    "#rename data frame\n",
    "b_df = b_df_g_drop"
   ]
  },
  {
   "cell_type": "code",
   "execution_count": 16,
   "id": "2bd900e2",
   "metadata": {},
   "outputs": [
    {
     "data": {
      "text/plain": [
       "User_ID        object\n",
       "History        object\n",
       "Impressions    object\n",
       "dtype: object"
      ]
     },
     "execution_count": 16,
     "metadata": {},
     "output_type": "execute_result"
    }
   ],
   "source": [
    "b_df.dtypes"
   ]
  },
  {
   "cell_type": "code",
   "execution_count": 17,
   "id": "1dde61ae",
   "metadata": {
    "scrolled": true
   },
   "outputs": [
    {
     "name": "stdout",
     "output_type": "stream",
     "text": [
      "      User_ID                                            History  \\\n",
      "0     U100159                                             N59700   \n",
      "1     U100179  N3682 N127175 N64765 N62551 N104760 N81982 N10...   \n",
      "2     U100253  N94639 N104181 N6612 N86208 N1229 N10000 N6317...   \n",
      "3     U100346  N90185 N61319 N15797 N65119 N94639 N52595 N769...   \n",
      "4     U100367  N122359 N94953 N29786 N82261 N54723 N29786 N16...   \n",
      "...       ...                                                ...   \n",
      "4870   U99457  N110755 N92279 N62936 N63858 N34292 N60511 N42...   \n",
      "4871   U99461  N50434 N98967 N91510 N23321 N14518 N33741 N229...   \n",
      "4872   U99541  N9375 N101263 N105296 N34684 N19665 N105375 N1...   \n",
      "4873   U99875  N9740 N17201 N37721 N18389 N2237 N32800 N98156...   \n",
      "4874   U99920  N77001 N66535 N89872 N16078 N82799 N72571 N294...   \n",
      "\n",
      "                                            Impressions  \n",
      "0     N2750-0 N59301-0 N60135-0 N116647-0 N92498-1 N...  \n",
      "1     N67927-0 N14848-1 N118589-0 N6293-0 N99362-0 N...  \n",
      "2     N123784-0 N88472-0 N100846-0 N72609-1 N46229-0...  \n",
      "3     N128940-0 N125953-0 N71788-0 N93674-0 N25597-0...  \n",
      "4     N46166-0 N100289-0 N30532-0 N43533-0 N18488-0 ...  \n",
      "...                                                 ...  \n",
      "4870  N70396-0 N50466-0 N120312-0 N30417-0 N62203-1 ...  \n",
      "4871  N28422-0 N9211-0 N25037-0 N78343-1 N21960-0 N1...  \n",
      "4872  N93411-0 N47257-1 N85986-0 N27251-0 N21883-0 N...  \n",
      "4873  N27097-0 N128583-0 N18539-0 N77488-0 N72485-0 ...  \n",
      "4874  N95525-0 N46415-0 N47925-0 N72609-0 N10802-0 N...  \n",
      "\n",
      "[4875 rows x 3 columns]\n"
     ]
    }
   ],
   "source": [
    "#group data by User_ID\n",
    "grouped_df = b_df.groupby('User_ID').agg({\n",
    "    'History': lambda x: ','.join(x),  # Combine all 'History' values into one string\n",
    "    'Impressions': lambda x: ','.join(x)  # Combine all 'Impressions' values into one string\n",
    "}).reset_index()\n",
    "\n",
    "# Step 2: Remove duplicates within each combined string\n",
    "grouped_df['History'] = grouped_df['History'].apply(lambda x: ','.join(set(x.split(','))))\n",
    "grouped_df['Impressions'] = grouped_df['Impressions'].apply(lambda x: ','.join(set(x.split(','))))\n",
    "\n",
    "print(grouped_df)"
   ]
  },
  {
   "cell_type": "code",
   "execution_count": 18,
   "id": "19a663cf",
   "metadata": {},
   "outputs": [
    {
     "data": {
      "text/plain": [
       "User_ID        object\n",
       "History        object\n",
       "Impressions    object\n",
       "dtype: object"
      ]
     },
     "execution_count": 18,
     "metadata": {},
     "output_type": "execute_result"
    }
   ],
   "source": [
    "grouped_df.dtypes"
   ]
  },
  {
   "cell_type": "code",
   "execution_count": 19,
   "id": "6bc799e2",
   "metadata": {},
   "outputs": [
    {
     "name": "stdout",
     "output_type": "stream",
     "text": [
      "      User_ID                                            History  \\\n",
      "0     U100159                                           N59700-1   \n",
      "1     U100179  N3682-1 N127175-1 N64765-1 N62551-1 N104760-1 ...   \n",
      "2     U100253  N94639-1 N104181-1 N6612-1 N86208-1 N1229-1 N1...   \n",
      "3     U100346  N90185-1 N61319-1 N15797-1 N65119-1 N94639-1 N...   \n",
      "4     U100367  N122359-1 N94953-1 N29786-1 N82261-1 N54723-1 ...   \n",
      "...       ...                                                ...   \n",
      "4870   U99457  N110755-1 N92279-1 N62936-1 N63858-1 N34292-1 ...   \n",
      "4871   U99461  N50434-1 N98967-1 N91510-1 N23321-1 N14518-1 N...   \n",
      "4872   U99541  N9375-1 N101263-1 N105296-1 N34684-1 N19665-1 ...   \n",
      "4873   U99875  N9740-1 N17201-1 N37721-1 N18389-1 N2237-1 N32...   \n",
      "4874   U99920  N77001-1 N66535-1 N89872-1 N16078-1 N82799-1 N...   \n",
      "\n",
      "                                            Impressions  \n",
      "0     N2750-0 N59301-0 N60135-0 N116647-0 N92498-1 N...  \n",
      "1     N67927-0 N14848-1 N118589-0 N6293-0 N99362-0 N...  \n",
      "2     N123784-0 N88472-0 N100846-0 N72609-1 N46229-0...  \n",
      "3     N128940-0 N125953-0 N71788-0 N93674-0 N25597-0...  \n",
      "4     N46166-0 N100289-0 N30532-0 N43533-0 N18488-0 ...  \n",
      "...                                                 ...  \n",
      "4870  N70396-0 N50466-0 N120312-0 N30417-0 N62203-1 ...  \n",
      "4871  N28422-0 N9211-0 N25037-0 N78343-1 N21960-0 N1...  \n",
      "4872  N93411-0 N47257-1 N85986-0 N27251-0 N21883-0 N...  \n",
      "4873  N27097-0 N128583-0 N18539-0 N77488-0 N72485-0 ...  \n",
      "4874  N95525-0 N46415-0 N47925-0 N72609-0 N10802-0 N...  \n",
      "\n",
      "[4875 rows x 3 columns]\n"
     ]
    }
   ],
   "source": [
    "# Function to add \"-1\" to each ID and join back with spaces\n",
    "def add_suffix_to_ids(ids_string):\n",
    "    ids_list = ids_string.split()  # Split the string of IDs into a list\n",
    "    ids_list_with_suffix = [id + '-1' for id in ids_list]  # Add \"-1\" to each ID\n",
    "    return ' '.join(ids_list_with_suffix)  # Join the modified IDs back with spaces\n",
    "\n",
    "# Apply the function to the 'History' column\n",
    "grouped_df['History'] = grouped_df['History'].apply(add_suffix_to_ids)\n",
    "\n",
    "# Display the updated DataFrame\n",
    "print(grouped_df)"
   ]
  },
  {
   "cell_type": "code",
   "execution_count": 20,
   "id": "4f221ee9",
   "metadata": {},
   "outputs": [
    {
     "name": "stdout",
     "output_type": "stream",
     "text": [
      "      User_ID                                            History  \\\n",
      "0     U100159                                           N59700-1   \n",
      "1     U100179  N3682-1 N127175-1 N64765-1 N62551-1 N104760-1 ...   \n",
      "2     U100253  N94639-1 N104181-1 N6612-1 N86208-1 N1229-1 N1...   \n",
      "3     U100346  N90185-1 N61319-1 N15797-1 N65119-1 N94639-1 N...   \n",
      "4     U100367  N122359-1 N94953-1 N29786-1 N82261-1 N54723-1 ...   \n",
      "...       ...                                                ...   \n",
      "4870   U99457  N110755-1 N92279-1 N62936-1 N63858-1 N34292-1 ...   \n",
      "4871   U99461  N50434-1 N98967-1 N91510-1 N23321-1 N14518-1 N...   \n",
      "4872   U99541  N9375-1 N101263-1 N105296-1 N34684-1 N19665-1 ...   \n",
      "4873   U99875  N9740-1 N17201-1 N37721-1 N18389-1 N2237-1 N32...   \n",
      "4874   U99920  N77001-1 N66535-1 N89872-1 N16078-1 N82799-1 N...   \n",
      "\n",
      "                                            Impressions  \\\n",
      "0     N2750-0 N59301-0 N60135-0 N116647-0 N92498-1 N...   \n",
      "1     N67927-0 N14848-1 N118589-0 N6293-0 N99362-0 N...   \n",
      "2     N123784-0 N88472-0 N100846-0 N72609-1 N46229-0...   \n",
      "3     N128940-0 N125953-0 N71788-0 N93674-0 N25597-0...   \n",
      "4     N46166-0 N100289-0 N30532-0 N43533-0 N18488-0 ...   \n",
      "...                                                 ...   \n",
      "4870  N70396-0 N50466-0 N120312-0 N30417-0 N62203-1 ...   \n",
      "4871  N28422-0 N9211-0 N25037-0 N78343-1 N21960-0 N1...   \n",
      "4872  N93411-0 N47257-1 N85986-0 N27251-0 N21883-0 N...   \n",
      "4873  N27097-0 N128583-0 N18539-0 N77488-0 N72485-0 ...   \n",
      "4874  N95525-0 N46415-0 N47925-0 N72609-0 N10802-0 N...   \n",
      "\n",
      "                                               Combined  \n",
      "0     N92498-1 N18539-0 N48418-0 N115021-0 N60135-0 ...  \n",
      "1     N24642-1 N67927-0 N99362-0 N50148-1 N64765-1 N...  \n",
      "2     N93856-0 N94639-1 N97564-0 N106659-0 N23011-0 ...  \n",
      "3     N15797-1 N54393-1 N22225-0 N79480-0 N55792-0 N...  \n",
      "4     N66244-0 N25751-0 N100289-0 N43533-0 N22999-0 ...  \n",
      "...                                                 ...  \n",
      "4870  N70848-1 N57797-1 N91923-1 N60511-1 N23128-1 N...  \n",
      "4871  N92277-1 N70751-1 N62652-1 N21250-1 N13518-1 N...  \n",
      "4872  N76775-1 N93643-0 N47257-1 N105296-1 N21883-0 ...  \n",
      "4873  N2620-1 N111375-1 N81449-1 N50080-1 N9375-1 N1...  \n",
      "4874  N93856-0 N115743-1 N80823-1 N109498-1 N77001-1...  \n",
      "\n",
      "[4875 rows x 4 columns]\n"
     ]
    }
   ],
   "source": [
    "#combine the history and impressions columns together\n",
    "def combine_history_impressions(row):\n",
    "    history_list = row['History'].split()  # Split 'History' string into a list of IDs\n",
    "    impressions_list = row['Impressions'].split()  # Split 'Impressions' string into a list of IDs\n",
    "    combined_list = list(set(history_list + impressions_list))  # Combine and remove duplicates\n",
    "    combined_string = ' '.join(combined_list)  # Join the combined list back into a string\n",
    "    return combined_string\n",
    "\n",
    "# Apply the function to create a new 'Combined' column\n",
    "grouped_df['Combined'] = grouped_df.apply(combine_history_impressions, axis=1)\n",
    "\n",
    "# Display the updated DataFrame\n",
    "print(grouped_df)"
   ]
  },
  {
   "cell_type": "code",
   "execution_count": 21,
   "id": "a3c5a99c",
   "metadata": {},
   "outputs": [],
   "source": [
    "#drop impressions and history columns\n",
    "column_list = ['Impressions', 'History']\n",
    "grouped_df.drop(columns = column_list, inplace=True)"
   ]
  },
  {
   "cell_type": "code",
   "execution_count": 22,
   "id": "5e4b695c",
   "metadata": {},
   "outputs": [
    {
     "name": "stdout",
     "output_type": "stream",
     "text": [
      "      User_ID                                           Combined\n",
      "0     U100159  N92498-1 N18539-0 N48418-0 N115021-0 N60135-0 ...\n",
      "1     U100179  N24642-1 N67927-0 N99362-0 N50148-1 N64765-1 N...\n",
      "2     U100253  N93856-0 N94639-1 N97564-0 N106659-0 N23011-0 ...\n",
      "3     U100346  N15797-1 N54393-1 N22225-0 N79480-0 N55792-0 N...\n",
      "4     U100367  N66244-0 N25751-0 N100289-0 N43533-0 N22999-0 ...\n",
      "...       ...                                                ...\n",
      "4870   U99457  N70848-1 N57797-1 N91923-1 N60511-1 N23128-1 N...\n",
      "4871   U99461  N92277-1 N70751-1 N62652-1 N21250-1 N13518-1 N...\n",
      "4872   U99541  N76775-1 N93643-0 N47257-1 N105296-1 N21883-0 ...\n",
      "4873   U99875  N2620-1 N111375-1 N81449-1 N50080-1 N9375-1 N1...\n",
      "4874   U99920  N93856-0 N115743-1 N80823-1 N109498-1 N77001-1...\n",
      "\n",
      "[4875 rows x 2 columns]\n"
     ]
    }
   ],
   "source": [
    "print(grouped_df)"
   ]
  },
  {
   "cell_type": "code",
   "execution_count": 23,
   "id": "27be7aae",
   "metadata": {},
   "outputs": [
    {
     "name": "stdout",
     "output_type": "stream",
     "text": [
      "      User_ID                                        Impressions\n",
      "0     U100159  N92498-1 N18539-0 N48418-0 N115021-0 N60135-0 ...\n",
      "1     U100179  N24642-1 N67927-0 N99362-0 N50148-1 N64765-1 N...\n",
      "2     U100253  N93856-0 N94639-1 N97564-0 N106659-0 N23011-0 ...\n",
      "3     U100346  N15797-1 N54393-1 N22225-0 N79480-0 N55792-0 N...\n",
      "4     U100367  N66244-0 N25751-0 N100289-0 N43533-0 N22999-0 ...\n",
      "...       ...                                                ...\n",
      "4870   U99457  N70848-1 N57797-1 N91923-1 N60511-1 N23128-1 N...\n",
      "4871   U99461  N92277-1 N70751-1 N62652-1 N21250-1 N13518-1 N...\n",
      "4872   U99541  N76775-1 N93643-0 N47257-1 N105296-1 N21883-0 ...\n",
      "4873   U99875  N2620-1 N111375-1 N81449-1 N50080-1 N9375-1 N1...\n",
      "4874   U99920  N93856-0 N115743-1 N80823-1 N109498-1 N77001-1...\n",
      "\n",
      "[4875 rows x 2 columns]\n"
     ]
    }
   ],
   "source": [
    "#renamed combined column\n",
    "grouped_df.rename(columns={'Combined': 'Impressions'}, inplace=True)\n",
    "print(grouped_df)"
   ]
  },
  {
   "cell_type": "code",
   "execution_count": 24,
   "id": "8d84063e",
   "metadata": {},
   "outputs": [],
   "source": [
    "#rename df back to b_df\n",
    "b_df = grouped_df"
   ]
  },
  {
   "cell_type": "code",
   "execution_count": 25,
   "id": "80c85289",
   "metadata": {},
   "outputs": [
    {
     "data": {
      "text/plain": [
       "User_ID        0\n",
       "Impressions    0\n",
       "dtype: int64"
      ]
     },
     "execution_count": 25,
     "metadata": {},
     "output_type": "execute_result"
    }
   ],
   "source": [
    "#Check for missing values\n",
    "b_df.isnull().sum()"
   ]
  },
  {
   "cell_type": "code",
   "execution_count": 26,
   "id": "8964b2f8",
   "metadata": {},
   "outputs": [
    {
     "data": {
      "text/plain": [
       "0"
      ]
     },
     "execution_count": 26,
     "metadata": {},
     "output_type": "execute_result"
    }
   ],
   "source": [
    "#Check for duplicates\n",
    "b_df.duplicated().sum()"
   ]
  },
  {
   "cell_type": "code",
   "execution_count": 27,
   "id": "77043736",
   "metadata": {},
   "outputs": [
    {
     "name": "stdout",
     "output_type": "stream",
     "text": [
      "        User_ID                                        Impressions  \\\n",
      "0       U100159  N92498-1 N18539-0 N48418-0 N115021-0 N60135-0 ...   \n",
      "1       U100159  N92498-1 N18539-0 N48418-0 N115021-0 N60135-0 ...   \n",
      "2       U100159  N92498-1 N18539-0 N48418-0 N115021-0 N60135-0 ...   \n",
      "3       U100159  N92498-1 N18539-0 N48418-0 N115021-0 N60135-0 ...   \n",
      "4       U100159  N92498-1 N18539-0 N48418-0 N115021-0 N60135-0 ...   \n",
      "...         ...                                                ...   \n",
      "346658   U99920  N93856-0 N115743-1 N80823-1 N109498-1 N77001-1...   \n",
      "346659   U99920  N93856-0 N115743-1 N80823-1 N109498-1 N77001-1...   \n",
      "346660   U99920  N93856-0 N115743-1 N80823-1 N109498-1 N77001-1...   \n",
      "346661   U99920  N93856-0 N115743-1 N80823-1 N109498-1 N77001-1...   \n",
      "346662   U99920  N93856-0 N115743-1 N80823-1 N109498-1 N77001-1...   \n",
      "\n",
      "       Impression_ID  \n",
      "0           N92498-1  \n",
      "1           N18539-0  \n",
      "2           N48418-0  \n",
      "3          N115021-0  \n",
      "4           N60135-0  \n",
      "...              ...  \n",
      "346658      N58200-1  \n",
      "346659      N46415-0  \n",
      "346660      N68429-1  \n",
      "346661      N75220-1  \n",
      "346662      N67497-1  \n",
      "\n",
      "[346663 rows x 3 columns]\n"
     ]
    }
   ],
   "source": [
    "#reassign dataframe\n",
    "b_df_final = b_df\n",
    "\n",
    "# Define batch size\n",
    "batch_size = 1000  # Adjust according to memory constraints\n",
    "\n",
    "# Process DataFrame in chunks\n",
    "chunks = [b_df_final[i:i+batch_size] for i in range(0, len(b_df_final), batch_size)]\n",
    "expanded_dfs = []\n",
    "\n",
    "for chunk in chunks:\n",
    "    expanded_df = chunk.assign(Impression_ID=chunk['Impressions'].str.split()).explode('Impression_ID')\n",
    "    expanded_df.rename(columns={'User_ID': 'User_ID', 'Impression_ID': 'Impression_ID'}, inplace=True)\n",
    "    expanded_dfs.append(expanded_df)\n",
    "\n",
    "# Concatenate all expanded DataFrames\n",
    "b_df_final = pd.concat(expanded_dfs, ignore_index=True)\n",
    "\n",
    "print(b_df_final)\n"
   ]
  },
  {
   "cell_type": "code",
   "execution_count": 28,
   "id": "ade8d551",
   "metadata": {},
   "outputs": [],
   "source": [
    "b_df_final.drop(['Impressions'], axis=1, inplace = True)"
   ]
  },
  {
   "cell_type": "code",
   "execution_count": 29,
   "id": "308e16ad",
   "metadata": {},
   "outputs": [
    {
     "name": "stdout",
     "output_type": "stream",
     "text": [
      "        User_ID Impression_ID\n",
      "0       U100159      N92498-1\n",
      "1       U100159      N18539-0\n",
      "2       U100159      N48418-0\n",
      "3       U100159     N115021-0\n",
      "4       U100159      N60135-0\n",
      "...         ...           ...\n",
      "346658   U99920      N58200-1\n",
      "346659   U99920      N46415-0\n",
      "346660   U99920      N68429-1\n",
      "346661   U99920      N75220-1\n",
      "346662   U99920      N67497-1\n",
      "\n",
      "[346663 rows x 2 columns]\n"
     ]
    }
   ],
   "source": [
    "print(b_df_final)"
   ]
  },
  {
   "cell_type": "code",
   "execution_count": 30,
   "id": "20631373",
   "metadata": {},
   "outputs": [
    {
     "data": {
      "text/html": [
       "<div>\n",
       "<style scoped>\n",
       "    .dataframe tbody tr th:only-of-type {\n",
       "        vertical-align: middle;\n",
       "    }\n",
       "\n",
       "    .dataframe tbody tr th {\n",
       "        vertical-align: top;\n",
       "    }\n",
       "\n",
       "    .dataframe thead th {\n",
       "        text-align: right;\n",
       "    }\n",
       "</style>\n",
       "<table border=\"1\" class=\"dataframe\">\n",
       "  <thead>\n",
       "    <tr style=\"text-align: right;\">\n",
       "      <th></th>\n",
       "      <th>User_ID</th>\n",
       "      <th>Impression_ID</th>\n",
       "    </tr>\n",
       "  </thead>\n",
       "  <tbody>\n",
       "    <tr>\n",
       "      <th>9995</th>\n",
       "      <td>U116179</td>\n",
       "      <td>N40040-1</td>\n",
       "    </tr>\n",
       "    <tr>\n",
       "      <th>9996</th>\n",
       "      <td>U116179</td>\n",
       "      <td>N880-0</td>\n",
       "    </tr>\n",
       "    <tr>\n",
       "      <th>9997</th>\n",
       "      <td>U116179</td>\n",
       "      <td>N26097-1</td>\n",
       "    </tr>\n",
       "    <tr>\n",
       "      <th>9998</th>\n",
       "      <td>U116179</td>\n",
       "      <td>N34971-0</td>\n",
       "    </tr>\n",
       "    <tr>\n",
       "      <th>9999</th>\n",
       "      <td>U116179</td>\n",
       "      <td>N41547-0</td>\n",
       "    </tr>\n",
       "  </tbody>\n",
       "</table>\n",
       "</div>"
      ],
      "text/plain": [
       "      User_ID Impression_ID\n",
       "9995  U116179      N40040-1\n",
       "9996  U116179        N880-0\n",
       "9997  U116179      N26097-1\n",
       "9998  U116179      N34971-0\n",
       "9999  U116179      N41547-0"
      ]
     },
     "execution_count": 30,
     "metadata": {},
     "output_type": "execute_result"
    }
   ],
   "source": [
    "b_df_final.head(10000).tail()"
   ]
  },
  {
   "cell_type": "code",
   "execution_count": 31,
   "id": "951a21ab",
   "metadata": {},
   "outputs": [],
   "source": [
    "b_df_final['Interaction'] = b_df_final['Impression_ID'].str[-1]"
   ]
  },
  {
   "cell_type": "code",
   "execution_count": 32,
   "id": "b434bd02",
   "metadata": {},
   "outputs": [
    {
     "name": "stdout",
     "output_type": "stream",
     "text": [
      "        User_ID Impression_ID Interaction\n",
      "0       U100159      N92498-1           1\n",
      "1       U100159      N18539-0           0\n",
      "2       U100159      N48418-0           0\n",
      "3       U100159     N115021-0           0\n",
      "4       U100159      N60135-0           0\n",
      "...         ...           ...         ...\n",
      "346658   U99920      N58200-1           1\n",
      "346659   U99920      N46415-0           0\n",
      "346660   U99920      N68429-1           1\n",
      "346661   U99920      N75220-1           1\n",
      "346662   U99920      N67497-1           1\n",
      "\n",
      "[346663 rows x 3 columns]\n"
     ]
    }
   ],
   "source": [
    "print(b_df_final)"
   ]
  },
  {
   "cell_type": "code",
   "execution_count": 33,
   "id": "64c311ad",
   "metadata": {},
   "outputs": [],
   "source": [
    "b_df_final['Article_ID'] = b_df_final['Impression_ID'].str[:-2]"
   ]
  },
  {
   "cell_type": "code",
   "execution_count": 34,
   "id": "b8bd2b61",
   "metadata": {},
   "outputs": [
    {
     "name": "stdout",
     "output_type": "stream",
     "text": [
      "        User_ID Impression_ID Interaction Article_ID\n",
      "0       U100159      N92498-1           1     N92498\n",
      "1       U100159      N18539-0           0     N18539\n",
      "2       U100159      N48418-0           0     N48418\n",
      "3       U100159     N115021-0           0    N115021\n",
      "4       U100159      N60135-0           0     N60135\n",
      "...         ...           ...         ...        ...\n",
      "346658   U99920      N58200-1           1     N58200\n",
      "346659   U99920      N46415-0           0     N46415\n",
      "346660   U99920      N68429-1           1     N68429\n",
      "346661   U99920      N75220-1           1     N75220\n",
      "346662   U99920      N67497-1           1     N67497\n",
      "\n",
      "[346663 rows x 4 columns]\n"
     ]
    }
   ],
   "source": [
    "print(b_df_final)"
   ]
  },
  {
   "cell_type": "code",
   "execution_count": 35,
   "id": "78b6a61e",
   "metadata": {},
   "outputs": [
    {
     "data": {
      "text/html": [
       "<div>\n",
       "<style scoped>\n",
       "    .dataframe tbody tr th:only-of-type {\n",
       "        vertical-align: middle;\n",
       "    }\n",
       "\n",
       "    .dataframe tbody tr th {\n",
       "        vertical-align: top;\n",
       "    }\n",
       "\n",
       "    .dataframe thead th {\n",
       "        text-align: right;\n",
       "    }\n",
       "</style>\n",
       "<table border=\"1\" class=\"dataframe\">\n",
       "  <thead>\n",
       "    <tr style=\"text-align: right;\">\n",
       "      <th></th>\n",
       "      <th>User_ID</th>\n",
       "      <th>Interaction</th>\n",
       "      <th>Article_ID</th>\n",
       "    </tr>\n",
       "  </thead>\n",
       "  <tbody>\n",
       "    <tr>\n",
       "      <th>0</th>\n",
       "      <td>U100159</td>\n",
       "      <td>1</td>\n",
       "      <td>N92498</td>\n",
       "    </tr>\n",
       "    <tr>\n",
       "      <th>1</th>\n",
       "      <td>U100159</td>\n",
       "      <td>0</td>\n",
       "      <td>N18539</td>\n",
       "    </tr>\n",
       "    <tr>\n",
       "      <th>2</th>\n",
       "      <td>U100159</td>\n",
       "      <td>0</td>\n",
       "      <td>N48418</td>\n",
       "    </tr>\n",
       "    <tr>\n",
       "      <th>3</th>\n",
       "      <td>U100159</td>\n",
       "      <td>0</td>\n",
       "      <td>N115021</td>\n",
       "    </tr>\n",
       "    <tr>\n",
       "      <th>4</th>\n",
       "      <td>U100159</td>\n",
       "      <td>0</td>\n",
       "      <td>N60135</td>\n",
       "    </tr>\n",
       "    <tr>\n",
       "      <th>...</th>\n",
       "      <td>...</td>\n",
       "      <td>...</td>\n",
       "      <td>...</td>\n",
       "    </tr>\n",
       "    <tr>\n",
       "      <th>346658</th>\n",
       "      <td>U99920</td>\n",
       "      <td>1</td>\n",
       "      <td>N58200</td>\n",
       "    </tr>\n",
       "    <tr>\n",
       "      <th>346659</th>\n",
       "      <td>U99920</td>\n",
       "      <td>0</td>\n",
       "      <td>N46415</td>\n",
       "    </tr>\n",
       "    <tr>\n",
       "      <th>346660</th>\n",
       "      <td>U99920</td>\n",
       "      <td>1</td>\n",
       "      <td>N68429</td>\n",
       "    </tr>\n",
       "    <tr>\n",
       "      <th>346661</th>\n",
       "      <td>U99920</td>\n",
       "      <td>1</td>\n",
       "      <td>N75220</td>\n",
       "    </tr>\n",
       "    <tr>\n",
       "      <th>346662</th>\n",
       "      <td>U99920</td>\n",
       "      <td>1</td>\n",
       "      <td>N67497</td>\n",
       "    </tr>\n",
       "  </tbody>\n",
       "</table>\n",
       "<p>346663 rows × 3 columns</p>\n",
       "</div>"
      ],
      "text/plain": [
       "        User_ID Interaction Article_ID\n",
       "0       U100159           1     N92498\n",
       "1       U100159           0     N18539\n",
       "2       U100159           0     N48418\n",
       "3       U100159           0    N115021\n",
       "4       U100159           0     N60135\n",
       "...         ...         ...        ...\n",
       "346658   U99920           1     N58200\n",
       "346659   U99920           0     N46415\n",
       "346660   U99920           1     N68429\n",
       "346661   U99920           1     N75220\n",
       "346662   U99920           1     N67497\n",
       "\n",
       "[346663 rows x 3 columns]"
      ]
     },
     "execution_count": 35,
     "metadata": {},
     "output_type": "execute_result"
    }
   ],
   "source": [
    "b_df_final.drop(columns = ['Impression_ID'])"
   ]
  },
  {
   "cell_type": "code",
   "execution_count": 36,
   "id": "50fb7139",
   "metadata": {},
   "outputs": [
    {
     "name": "stdout",
     "output_type": "stream",
     "text": [
      "        User_ID Article_ID Interaction\n",
      "0       U100159     N92498           1\n",
      "1       U100159     N18539           0\n",
      "2       U100159     N48418           0\n",
      "3       U100159    N115021           0\n",
      "4       U100159     N60135           0\n",
      "...         ...        ...         ...\n",
      "346658   U99920     N58200           1\n",
      "346659   U99920     N46415           0\n",
      "346660   U99920     N68429           1\n",
      "346661   U99920     N75220           1\n",
      "346662   U99920     N67497           1\n",
      "\n",
      "[346663 rows x 3 columns]\n"
     ]
    }
   ],
   "source": [
    "new_order = ['User_ID', 'Article_ID', 'Interaction']\n",
    "\n",
    "# Reorder the DataFrame columns\n",
    "b_df_final = b_df_final[new_order]\n",
    "\n",
    "print(b_df_final)"
   ]
  },
  {
   "cell_type": "markdown",
   "id": "9418b88c",
   "metadata": {},
   "source": [
    "# Convert User_ID and Article ID to numeric values"
   ]
  },
  {
   "cell_type": "code",
   "execution_count": 37,
   "id": "870dc18f",
   "metadata": {},
   "outputs": [
    {
     "name": "stdout",
     "output_type": "stream",
     "text": [
      "       User_ID Article_ID Interaction\n",
      "0       100159      92498           1\n",
      "1       100159      18539           0\n",
      "2       100159      48418           0\n",
      "3       100159     115021           0\n",
      "4       100159      60135           0\n",
      "...        ...        ...         ...\n",
      "346658   99920      58200           1\n",
      "346659   99920      46415           0\n",
      "346660   99920      68429           1\n",
      "346661   99920      75220           1\n",
      "346662   99920      67497           1\n",
      "\n",
      "[346663 rows x 3 columns]\n"
     ]
    }
   ],
   "source": [
    "b_df_final['Article_ID'] = b_df_final['Article_ID'].str.lstrip('N')\n",
    "b_df_final['User_ID'] = b_df_final['User_ID'].str.lstrip('U')\n",
    "print(b_df_final)"
   ]
  },
  {
   "cell_type": "code",
   "execution_count": 38,
   "id": "90a5c769",
   "metadata": {},
   "outputs": [
    {
     "name": "stdout",
     "output_type": "stream",
     "text": [
      "       User_ID        Article_ID Interaction\n",
      "2193    103661   103852-0,N54223           1\n",
      "69055   226614   100073-0,N98178           0\n",
      "93414   273939    77870-0,N74682           1\n",
      "95497   277582     66929-0,N8719           0\n",
      "108314  300975    43729-0,N38903           0\n",
      "111332  307172   114135-0,N71090           0\n",
      "114601  311989   81297-0,N111291           1\n",
      "136676  355302    56339-0,N18553           0\n",
      "140146  360251   108645-0,N41710           0\n",
      "142047   36481     55831-0,N5287           0\n",
      "143681   36745    46716-0,N60032           0\n",
      "154302  388946  100539-0,N102458           0\n",
      "154568  389137    2624-0,N102846           0\n",
      "166582    4099  112156-0,N112156           0\n",
      "174888  425855    125642-0,N5032           0\n",
      "182174   43887    40064-0,N58641           0\n",
      "182700  439196    85877-0,N41710           0\n",
      "188001  447636    67264-0,N10646           0\n",
      "191589  454695    91865-0,N91865           0\n",
      "206701  482778    63827-0,N37441           0\n",
      "231431  529783   111291-0,N26368           0\n",
      "239815  545625   84957-0,N123968           0\n",
      "245606  557602   108218-0,N89039           0\n",
      "246463  558804     5287-0,N24701           0\n",
      "248562  561285   102458-0,N41101           1\n",
      "257912  578359   47925-1,N100207           0\n",
      "262990  587536  103953-1,N122706           0\n",
      "340806   90436    87684-0,N28809           0\n"
     ]
    }
   ],
   "source": [
    "#check for errors\n",
    "mask = b_df_final['Article_ID'].str.len() > 6\n",
    "filtered_df = b_df_final[mask]\n",
    "print(filtered_df)"
   ]
  },
  {
   "cell_type": "code",
   "execution_count": 39,
   "id": "cfe9ddb8",
   "metadata": {},
   "outputs": [],
   "source": [
    "b_df_final = b_df_final.drop(38177)"
   ]
  },
  {
   "cell_type": "code",
   "execution_count": 40,
   "id": "2192b57a",
   "metadata": {},
   "outputs": [
    {
     "name": "stdout",
     "output_type": "stream",
     "text": [
      "       User_ID Article_ID Interaction\n",
      "0       100159      92498           1\n",
      "1       100159      18539           0\n",
      "2       100159      48418           0\n",
      "3       100159     115021           0\n",
      "4       100159      60135           0\n",
      "...        ...        ...         ...\n",
      "346658   99920      58200           1\n",
      "346659   99920      46415           0\n",
      "346660   99920      68429           1\n",
      "346661   99920      75220           1\n",
      "346662   99920      67497           1\n",
      "\n",
      "[346662 rows x 3 columns]\n"
     ]
    }
   ],
   "source": [
    "print(b_df_final)"
   ]
  },
  {
   "cell_type": "code",
   "execution_count": 41,
   "id": "d8ed1982",
   "metadata": {
    "scrolled": true
   },
   "outputs": [],
   "source": [
    "# Convert columns to numeric\n",
    "b_df_final['User_ID'] = pd.to_numeric(b_df_final['User_ID'], errors='coerce')\n",
    "b_df_final['Article_ID'] = pd.to_numeric(b_df_final['Article_ID'], errors='coerce')\n",
    "b_df_final['Interaction'] = pd.to_numeric(b_df_final['Interaction'], errors='coerce')"
   ]
  },
  {
   "cell_type": "code",
   "execution_count": 42,
   "id": "7bf9d3b3",
   "metadata": {},
   "outputs": [
    {
     "data": {
      "text/plain": [
       "User_ID         0\n",
       "Article_ID     28\n",
       "Interaction     0\n",
       "dtype: int64"
      ]
     },
     "execution_count": 42,
     "metadata": {},
     "output_type": "execute_result"
    }
   ],
   "source": [
    "b_df_final.isnull().sum()"
   ]
  },
  {
   "cell_type": "code",
   "execution_count": 43,
   "id": "4bc49829",
   "metadata": {},
   "outputs": [],
   "source": [
    "b_df_final = b_df_final.dropna()"
   ]
  },
  {
   "cell_type": "code",
   "execution_count": 44,
   "id": "4ff33d8b",
   "metadata": {},
   "outputs": [
    {
     "name": "stdout",
     "output_type": "stream",
     "text": [
      "(346634, 3)\n"
     ]
    }
   ],
   "source": [
    "print(b_df_final.shape)"
   ]
  },
  {
   "cell_type": "code",
   "execution_count": 45,
   "id": "3bc8767a",
   "metadata": {},
   "outputs": [
    {
     "name": "stdout",
     "output_type": "stream",
     "text": [
      "        User_ID  Article_ID  Interaction\n",
      "0        100159     92498.0            1\n",
      "1        100159     18539.0            0\n",
      "2        100159     48418.0            0\n",
      "3        100159    115021.0            0\n",
      "4        100159     60135.0            0\n",
      "...         ...         ...          ...\n",
      "346658    99920     58200.0            1\n",
      "346659    99920     46415.0            0\n",
      "346660    99920     68429.0            1\n",
      "346661    99920     75220.0            1\n",
      "346662    99920     67497.0            1\n",
      "\n",
      "[346634 rows x 3 columns]\n"
     ]
    },
    {
     "data": {
      "text/plain": [
       "User_ID          int64\n",
       "Article_ID     float64\n",
       "Interaction      int64\n",
       "dtype: object"
      ]
     },
     "execution_count": 45,
     "metadata": {},
     "output_type": "execute_result"
    }
   ],
   "source": [
    "print(b_df_final)\n",
    "b_df_final.dtypes"
   ]
  },
  {
   "cell_type": "code",
   "execution_count": 46,
   "id": "bc0441cb",
   "metadata": {},
   "outputs": [],
   "source": [
    "df = b_df_final"
   ]
  },
  {
   "cell_type": "markdown",
   "id": "130dbabc",
   "metadata": {},
   "source": [
    "# Exploratory Data Analysis"
   ]
  },
  {
   "cell_type": "code",
   "execution_count": 47,
   "id": "1aa1e32f",
   "metadata": {},
   "outputs": [
    {
     "data": {
      "image/png": "[encoded data removed]",
      "text/plain": [
       "<Figure size 640x480 with 1 Axes>"
      ]
     },
     "metadata": {},
     "output_type": "display_data"
    }
   ],
   "source": [
    "import matplotlib.pyplot as plt\n",
    "counts = df['Interaction'].value_counts()\n",
    "\n",
    "plt.bar(counts.index, counts.values, color=['slategrey', 'cadetblue'])\n",
    "plt.xlabel('Interaction (0 = No Click, 1 = Click)')\n",
    "plt.ylabel('Count')\n",
    "plt.title('Article Interactions')\n",
    "\n",
    "plt.xticks([0, 1], ['No Click', 'Click'])  \n",
    "plt.show()"
   ]
  },
  {
   "cell_type": "code",
   "execution_count": 48,
   "id": "99808af2",
   "metadata": {},
   "outputs": [
    {
     "data": {
      "image/png": "[encoded data removed]",
      "text/plain": [
       "<Figure size 640x480 with 1 Axes>"
      ]
     },
     "metadata": {},
     "output_type": "display_data"
    }
   ],
   "source": [
    "user_interactions = df.groupby(['User_ID', 'Interaction']).size().unstack(fill_value=0)\n",
    "user_interactions.head(10).plot(kind='bar', stacked=True, color=['slategrey', 'cadetblue'])\n",
    "plt.title('Top 10 Users: Clicks vs Ignores')\n",
    "plt.xlabel('User ID')\n",
    "plt.ylabel('Number of Interactions')\n",
    "plt.show()"
   ]
  },
  {
   "cell_type": "code",
   "execution_count": 49,
   "id": "c648a8f3",
   "metadata": {},
   "outputs": [
    {
     "data": {
      "image/png": "[encoded data removed]",
      "text/plain": [
       "<Figure size 640x480 with 1 Axes>"
      ]
     },
     "metadata": {},
     "output_type": "display_data"
    }
   ],
   "source": [
    "df['User_ID'].value_counts().plot(kind='hist', bins=50, color='cadetblue')\n",
    "plt.title('Interaction Frequency per User')\n",
    "plt.xlabel('Number of Interactions')\n",
    "plt.ylabel('Frequency')\n",
    "plt.show()"
   ]
  },
  {
   "cell_type": "code",
   "execution_count": 50,
   "id": "509fc1d4",
   "metadata": {},
   "outputs": [
    {
     "name": "stdout",
     "output_type": "stream",
     "text": [
      "71.10441025641026\n",
      "54.0\n"
     ]
    }
   ],
   "source": [
    "interaction_counts = df['User_ID'].value_counts()\n",
    "\n",
    "# Calculate mean\n",
    "mean_interactions = interaction_counts.mean()\n",
    "\n",
    "# Calculate median\n",
    "median_interactions = interaction_counts.median()\n",
    "\n",
    "print(mean_interactions)\n",
    "print(median_interactions)"
   ]
  },
  {
   "cell_type": "code",
   "execution_count": 51,
   "id": "7165727d",
   "metadata": {},
   "outputs": [
    {
     "data": {
      "image/png": "[encoded data removed]",
      "text/plain": [
       "<Figure size 640x480 with 1 Axes>"
      ]
     },
     "metadata": {},
     "output_type": "display_data"
    }
   ],
   "source": [
    "click_data = df[df['Interaction'] == 1]\n",
    "article_clicks = click_data['Article_ID'].value_counts()\n",
    "plt.scatter(article_clicks.index, article_clicks.values, color = 'cadetblue')\n",
    "plt.title('Clicks by Article')\n",
    "plt.xlabel('Article ID')\n",
    "plt.ylabel('Number of Clicks')\n",
    "plt.show()"
   ]
  },
  {
   "cell_type": "code",
   "execution_count": 52,
   "id": "ce553bf2",
   "metadata": {},
   "outputs": [
    {
     "data": {
      "text/plain": [
       "8.867647058823529"
      ]
     },
     "execution_count": 52,
     "metadata": {},
     "output_type": "execute_result"
    }
   ],
   "source": [
    "article_clicks.mean()"
   ]
  },
  {
   "cell_type": "markdown",
   "id": "db345f34",
   "metadata": {},
   "source": [
    "# Model Building & Evaluation"
   ]
  },
  {
   "cell_type": "code",
   "execution_count": 53,
   "id": "df4db51e",
   "metadata": {},
   "outputs": [],
   "source": [
    "# Features (User_ID and Article_ID) and Target (Interaction)\n",
    "X = df[['User_ID', 'Article_ID']]\n",
    "y = df[['Interaction']]\n",
    "\n",
    "# Split data into training and test sets\n",
    "X_train, X_test, y_train, y_test = train_test_split(X, y, test_size=0.2, random_state=42)"
   ]
  },
  {
   "cell_type": "markdown",
   "id": "a240b385",
   "metadata": {},
   "source": [
    "# Linear Regression Model"
   ]
  },
  {
   "cell_type": "code",
   "execution_count": 54,
   "id": "d250a427",
   "metadata": {},
   "outputs": [
    {
     "name": "stderr",
     "output_type": "stream",
     "text": [
      "C:\\Users\\josia\\anaconda3\\Desktop\\Lib\\site-packages\\sklearn\\utils\\validation.py:1184: DataConversionWarning: A column-vector y was passed when a 1d array was expected. Please change the shape of y to (n_samples, ), for example using ravel().\n",
      "  y = column_or_1d(y, warn=True)\n"
     ]
    },
    {
     "name": "stdout",
     "output_type": "stream",
     "text": [
      "Accuracy: 0.5145758506786677\n",
      "Precision: 0.5010508289873122\n",
      "Recall: 0.19112232779097388\n",
      "F1 Score: 0.27669955079846115\n"
     ]
    }
   ],
   "source": [
    "# Train logistic regression on known interactions (0s and 1s)\n",
    "from sklearn.linear_model import LogisticRegression\n",
    "log_reg_model = LogisticRegression()\n",
    "log_reg_model.fit(X_train, y_train)\n",
    "\n",
    "y_pred = log_reg_model.predict(X_test)\n",
    "\n",
    "print(f'Accuracy: {accuracy_score(y_test, y_pred)}')\n",
    "print(f'Precision: {precision_score(y_test, y_pred)}')\n",
    "print(f'Recall: {recall_score(y_test, y_pred)}')\n",
    "print(f'F1 Score: {f1_score(y_test, y_pred)}')"
   ]
  },
  {
   "cell_type": "markdown",
   "id": "c3248f6e",
   "metadata": {},
   "source": [
    "# XG Boost Classifier "
   ]
  },
  {
   "cell_type": "code",
   "execution_count": 55,
   "id": "e1734aac",
   "metadata": {},
   "outputs": [
    {
     "name": "stderr",
     "output_type": "stream",
     "text": [
      "C:\\Users\\josia\\anaconda3\\Desktop\\Lib\\site-packages\\xgboost\\core.py:158: UserWarning: [18:28:53] WARNING: C:\\buildkite-agent\\builds\\buildkite-windows-cpu-autoscaling-group-i-0015a694724fa8361-1\\xgboost\\xgboost-ci-windows\\src\\learner.cc:740: \n",
      "Parameters: { \"use_label_encoder\" } are not used.\n",
      "\n",
      "  warnings.warn(smsg, UserWarning)\n"
     ]
    },
    {
     "name": "stdout",
     "output_type": "stream",
     "text": [
      "Accuracy: 0.62\n",
      "Precision: 0.62\n",
      "Recall: 0.56\n",
      "F1 Score: 0.59\n",
      "Mean Squared Error: 0.38\n"
     ]
    }
   ],
   "source": [
    "model = XGBClassifier(use_label_encoder=False, eval_metric='logloss')\n",
    "model.fit(X_train, y_train)\n",
    "\n",
    "y_pred = model.predict(X_test)\n",
    "\n",
    "# Calculate metrics\n",
    "accuracy = accuracy_score(y_test, y_pred)\n",
    "precision = precision_score(y_test, y_pred)\n",
    "recall = recall_score(y_test, y_pred)\n",
    "f1 = f1_score(y_test, y_pred)\n",
    "mse = mean_squared_error(y_test, y_pred)\n",
    "\n",
    "print(f'Accuracy: {accuracy:.2f}')\n",
    "print(f'Precision: {precision:.2f}')\n",
    "print(f'Recall: {recall:.2f}')\n",
    "print(f'F1 Score: {f1:.2f}')\n",
    "print(f'Mean Squared Error: {mse:.2f}')"
   ]
  },
  {
   "cell_type": "markdown",
   "id": "a3c2fc1c",
   "metadata": {},
   "source": [
    "# Random Forest Classifier Model:"
   ]
  },
  {
   "cell_type": "code",
   "execution_count": 56,
   "id": "5b444aa8",
   "metadata": {},
   "outputs": [
    {
     "name": "stderr",
     "output_type": "stream",
     "text": [
      "C:\\Users\\josia\\anaconda3\\Desktop\\Lib\\site-packages\\sklearn\\base.py:1151: DataConversionWarning: A column-vector y was passed when a 1d array was expected. Please change the shape of y to (n_samples,), for example using ravel().\n",
      "  return fit_method(estimator, *args, **kwargs)\n"
     ]
    },
    {
     "name": "stdout",
     "output_type": "stream",
     "text": [
      "Best Parameters: OrderedDict([('max_depth', 47), ('min_samples_leaf', 1), ('min_samples_split', 14), ('n_estimators', 300)])\n",
      "Best Cross-Validation Score: 0.7847431784005717\n",
      "Accuracy: 0.8056168592323337\n",
      "Precision: 0.8180930789092512\n",
      "Recall: 0.7714073634204276\n",
      "F1 Score: 0.794064610776613\n",
      "ROC AUC Score: 0.8046730199434452\n"
     ]
    }
   ],
   "source": [
    "# Define the model\n",
    "rf_model = RandomForestClassifier(random_state=42)\n",
    "\n",
    "# Define the search space for hyperparameters\n",
    "search_space = {\n",
    "    'n_estimators': (100, 300),  # Example range for number of trees\n",
    "    'max_depth': (5, 50),         # Example range for maximum depth\n",
    "    'min_samples_leaf': (1, 10),  # Example range for minimum samples per leaf\n",
    "    'min_samples_split': (2, 20)   # Example range for minimum samples to split\n",
    "}\n",
    "\n",
    "# Initialize Bayesian Optimization\n",
    "bayes_search = BayesSearchCV(\n",
    "    rf_model,\n",
    "    search_space,\n",
    "    n_iter=30,                     # Number of iterations\n",
    "    scoring='f1',                  # Metric to optimize\n",
    "    cv=5,                          # Cross-validation\n",
    "    n_jobs=-1,                     # Use all available cores\n",
    "    random_state=42\n",
    ")\n",
    "\n",
    "# Fit the model to the training data\n",
    "bayes_search.fit(X_train, y_train)\n",
    "\n",
    "# Get the best parameters and the best score\n",
    "best_params = bayes_search.best_params_\n",
    "best_score = bayes_search.best_score_\n",
    "\n",
    "# Print the results\n",
    "print(\"Best Parameters:\", best_params)\n",
    "print(\"Best Cross-Validation Score:\", best_score)\n",
    "\n",
    "# Make predictions on the test set using the best model\n",
    "y_pred = bayes_search.predict(X_test)\n",
    "\n",
    "# Evaluate the model performance\n",
    "print(f'Accuracy: {accuracy_score(y_test, y_pred)}')\n",
    "print(f'Precision: {precision_score(y_test, y_pred)}')\n",
    "print(f'Recall: {recall_score(y_test, y_pred)}')\n",
    "print(f'F1 Score: {f1_score(y_test, y_pred)}')\n",
    "print(f'ROC AUC Score: {roc_auc_score(y_test, y_pred)}')"
   ]
  },
  {
   "cell_type": "code",
   "execution_count": 59,
   "id": "5711d53b",
   "metadata": {},
   "outputs": [
    {
     "name": "stderr",
     "output_type": "stream",
     "text": [
      "C:\\Users\\josia\\anaconda3\\Desktop\\Lib\\site-packages\\sklearn\\base.py:1151: DataConversionWarning: A column-vector y was passed when a 1d array was expected. Please change the shape of y to (n_samples,), for example using ravel().\n",
      "  return fit_method(estimator, *args, **kwargs)\n"
     ]
    },
    {
     "data": {
      "text/html": [
       "<style>#sk-container-id-1 {color: black;}#sk-container-id-1 pre{padding: 0;}#sk-container-id-1 div.sk-toggleable {background-color: white;}#sk-container-id-1 label.sk-toggleable__label {cursor: pointer;display: block;width: 100%;margin-bottom: 0;padding: 0.3em;box-sizing: border-box;text-align: center;}#sk-container-id-1 label.sk-toggleable__label-arrow:before {content: \"▸\";float: left;margin-right: 0.25em;color: #696969;}#sk-container-id-1 label.sk-toggleable__label-arrow:hover:before {color: black;}#sk-container-id-1 div.sk-estimator:hover label.sk-toggleable__label-arrow:before {color: black;}#sk-container-id-1 div.sk-toggleable__content {max-height: 0;max-width: 0;overflow: hidden;text-align: left;background-color: #f0f8ff;}#sk-container-id-1 div.sk-toggleable__content pre {margin: 0.2em;color: black;border-radius: 0.25em;background-color: #f0f8ff;}#sk-container-id-1 input.sk-toggleable__control:checked~div.sk-toggleable__content {max-height: 200px;max-width: 100%;overflow: auto;}#sk-container-id-1 input.sk-toggleable__control:checked~label.sk-toggleable__label-arrow:before {content: \"▾\";}#sk-container-id-1 div.sk-estimator input.sk-toggleable__control:checked~label.sk-toggleable__label {background-color: #d4ebff;}#sk-container-id-1 div.sk-label input.sk-toggleable__control:checked~label.sk-toggleable__label {background-color: #d4ebff;}#sk-container-id-1 input.sk-hidden--visually {border: 0;clip: rect(1px 1px 1px 1px);clip: rect(1px, 1px, 1px, 1px);height: 1px;margin: -1px;overflow: hidden;padding: 0;position: absolute;width: 1px;}#sk-container-id-1 div.sk-estimator {font-family: monospace;background-color: #f0f8ff;border: 1px dotted black;border-radius: 0.25em;box-sizing: border-box;margin-bottom: 0.5em;}#sk-container-id-1 div.sk-estimator:hover {background-color: #d4ebff;}#sk-container-id-1 div.sk-parallel-item::after {content: \"\";width: 100%;border-bottom: 1px solid gray;flex-grow: 1;}#sk-container-id-1 div.sk-label:hover label.sk-toggleable__label {background-color: #d4ebff;}#sk-container-id-1 div.sk-serial::before {content: \"\";position: absolute;border-left: 1px solid gray;box-sizing: border-box;top: 0;bottom: 0;left: 50%;z-index: 0;}#sk-container-id-1 div.sk-serial {display: flex;flex-direction: column;align-items: center;background-color: white;padding-right: 0.2em;padding-left: 0.2em;position: relative;}#sk-container-id-1 div.sk-item {position: relative;z-index: 1;}#sk-container-id-1 div.sk-parallel {display: flex;align-items: stretch;justify-content: center;background-color: white;position: relative;}#sk-container-id-1 div.sk-item::before, #sk-container-id-1 div.sk-parallel-item::before {content: \"\";position: absolute;border-left: 1px solid gray;box-sizing: border-box;top: 0;bottom: 0;left: 50%;z-index: -1;}#sk-container-id-1 div.sk-parallel-item {display: flex;flex-direction: column;z-index: 1;position: relative;background-color: white;}#sk-container-id-1 div.sk-parallel-item:first-child::after {align-self: flex-end;width: 50%;}#sk-container-id-1 div.sk-parallel-item:last-child::after {align-self: flex-start;width: 50%;}#sk-container-id-1 div.sk-parallel-item:only-child::after {width: 0;}#sk-container-id-1 div.sk-dashed-wrapped {border: 1px dashed gray;margin: 0 0.4em 0.5em 0.4em;box-sizing: border-box;padding-bottom: 0.4em;background-color: white;}#sk-container-id-1 div.sk-label label {font-family: monospace;font-weight: bold;display: inline-block;line-height: 1.2em;}#sk-container-id-1 div.sk-label-container {text-align: center;}#sk-container-id-1 div.sk-container {/* jupyter's `normalize.less` sets `[hidden] { display: none; }` but bootstrap.min.css set `[hidden] { display: none !important; }` so we also need the `!important` here to be able to override the default hidden behavior on the sphinx rendered scikit-learn.org. See: https://github.com/scikit-learn/scikit-learn/issues/21755 */display: inline-block !important;position: relative;}#sk-container-id-1 div.sk-text-repr-fallback {display: none;}</style><div id=\"sk-container-id-1\" class=\"sk-top-container\"><div class=\"sk-text-repr-fallback\"><pre>RandomForestClassifier(max_depth=47, min_samples_split=14, n_estimators=300,\n",
       "                       random_state=42)</pre><b>In a Jupyter environment, please rerun this cell to show the HTML representation or trust the notebook. <br />On GitHub, the HTML representation is unable to render, please try loading this page with nbviewer.org.</b></div><div class=\"sk-container\" hidden><div class=\"sk-item\"><div class=\"sk-estimator sk-toggleable\"><input class=\"sk-toggleable__control sk-hidden--visually\" id=\"sk-estimator-id-1\" type=\"checkbox\" checked><label for=\"sk-estimator-id-1\" class=\"sk-toggleable__label sk-toggleable__label-arrow\">RandomForestClassifier</label><div class=\"sk-toggleable__content\"><pre>RandomForestClassifier(max_depth=47, min_samples_split=14, n_estimators=300,\n",
       "                       random_state=42)</pre></div></div></div></div></div>"
      ],
      "text/plain": [
       "RandomForestClassifier(max_depth=47, min_samples_split=14, n_estimators=300,\n",
       "                       random_state=42)"
      ]
     },
     "execution_count": 59,
     "metadata": {},
     "output_type": "execute_result"
    }
   ],
   "source": [
    "# Initialize and train Random Forest Classifier\n",
    "rf_model = RandomForestClassifier(n_estimators=300, random_state=42, max_depth=47, min_samples_leaf=1, min_samples_split=14)\n",
    "rf_model.fit(X_train, y_train)"
   ]
  },
  {
   "cell_type": "markdown",
   "id": "1825a15e",
   "metadata": {},
   "source": [
    "# Model Comparison"
   ]
  },
  {
   "cell_type": "code",
   "execution_count": 60,
   "id": "3fb37877",
   "metadata": {},
   "outputs": [
    {
     "data": {
      "image/png": "[encoded data removed]",
      "text/plain": [
       "<Figure size 1000x600 with 1 Axes>"
      ]
     },
     "metadata": {},
     "output_type": "display_data"
    }
   ],
   "source": [
    "metrics = ['Accuracy', 'Precision', 'Recall', 'F1 Score']\n",
    "logistic_regression = [0.5132, 0.5017, 0.1601, 0.2427]\n",
    "xgboost = [0.62, 0.62, 0.57, 0.59]\n",
    "random_forest = [0.7894, 0.8073, 0.7448, 0.7748]\n",
    "\n",
    "x = np.arange(len(metrics))\n",
    "width = 0.25  \n",
    "\n",
    "fig, ax = plt.subplots(figsize=(10, 6))\n",
    "\n",
    "rects1 = ax.bar(x - width, logistic_regression, width, label='Logistic Regression', color='slategrey')\n",
    "rects2 = ax.bar(x, xgboost, width, label='XGBoost', color='steelblue')\n",
    "rects3 = ax.bar(x + width, random_forest, width, label='Random Forest', color='cadetblue')\n",
    "\n",
    "ax.set_ylabel('Scores')\n",
    "ax.set_title('Model Comparison')\n",
    "ax.set_xticks(x)\n",
    "ax.set_xticklabels(metrics)\n",
    "ax.set_ylim(0, 1)\n",
    "ax.legend()\n",
    "\n",
    "plt.tight_layout()\n",
    "plt.show()"
   ]
  },
  {
   "cell_type": "markdown",
   "id": "dbddf97c",
   "metadata": {},
   "source": [
    "# Algorithm Recommendations"
   ]
  },
  {
   "cell_type": "code",
   "execution_count": 61,
   "id": "3eb9950a",
   "metadata": {},
   "outputs": [
    {
     "name": "stdout",
     "output_type": "stream",
     "text": [
      "[[0.3681743  0.6318257 ]\n",
      " [0.04903578 0.95096422]\n",
      " [0.68234456 0.31765544]\n",
      " ...\n",
      " [0.53400297 0.46599703]\n",
      " [0.70773848 0.29226152]\n",
      " [0.30002254 0.69997746]]\n"
     ]
    }
   ],
   "source": [
    "predicted_probabilities = rf_model.predict_proba(X_test)\n",
    "print(predicted_probabilities)"
   ]
  },
  {
   "cell_type": "code",
   "execution_count": 62,
   "id": "5a393c37",
   "metadata": {},
   "outputs": [
    {
     "name": "stdout",
     "output_type": "stream",
     "text": [
      "Most Likely to Interact Articles:\n",
      "       User_ID  Article_ID  Prob_Interaction\n",
      "1        16311     50676.0          0.950964\n",
      "13      578952    121133.0          0.853814\n",
      "14      165916     72105.0          0.780037\n",
      "37      604330     58200.0          0.962295\n",
      "43      226464     50645.0          0.878159\n",
      "...        ...         ...               ...\n",
      "69309   657687     49965.0          0.782357\n",
      "69313   597961    119800.0          0.792797\n",
      "69314   546120     58200.0          0.960345\n",
      "69318   658766    104312.0          0.869887\n",
      "69320   512810     66666.0          0.767771\n",
      "\n",
      "[11246 rows x 3 columns]\n",
      "\n",
      "Unlikely to Interact Articles:\n",
      "       User_ID  Article_ID  Prob_Interaction\n",
      "0       172650     60001.0          0.631826\n",
      "2       197923     91047.0          0.317655\n",
      "3       232937     29866.0          0.713950\n",
      "4       252182     55903.0          0.524933\n",
      "5        33479    118266.0          0.284588\n",
      "...        ...         ...               ...\n",
      "69322   201131     41658.0          0.474930\n",
      "69323    43443     64730.0          0.243408\n",
      "69324   404369     35005.0          0.465997\n",
      "69325   297026     56603.0          0.292262\n",
      "69326   149648     34516.0          0.699977\n",
      "\n",
      "[58081 rows x 3 columns]\n"
     ]
    }
   ],
   "source": [
    "# Create a DataFrame to hold the probabilities and their corresponding User_ID and Article_ID\n",
    "recommendations = pd.DataFrame(predicted_probabilities, columns=['Prob_No_Interaction', 'Prob_Interaction'])\n",
    "recommendations['User_ID'] = X_test['User_ID'].values\n",
    "recommendations['Article_ID'] = X_test['Article_ID'].values\n",
    "\n",
    "def categorize_interaction(row):\n",
    "    if row['Prob_Interaction'] >= 0.75:\n",
    "        return 'Most Likely to Interact'\n",
    "    else:\n",
    "        return 'Unlikely to Interact'\n",
    "\n",
    "recommendations['Recommendation_Category'] = recommendations.apply(categorize_interaction, axis=1)\n",
    "\n",
    "most_likely = recommendations[recommendations['Recommendation_Category'] == 'Most Likely to Interact']\n",
    "least_likely = recommendations[recommendations['Recommendation_Category'] == 'Unlikely to Interact'] \n",
    "\n",
    "print(\"Most Likely to Interact Articles:\")\n",
    "print(most_likely[['User_ID', 'Article_ID', 'Prob_Interaction']])\n",
    "\n",
    "print(\"\\nUnlikely to Interact Articles:\")\n",
    "print(least_likely[['User_ID', 'Article_ID', 'Prob_Interaction']])\n"
   ]
  },
  {
   "cell_type": "code",
   "execution_count": 63,
   "id": "c68e54cd",
   "metadata": {},
   "outputs": [
    {
     "name": "stdout",
     "output_type": "stream",
     "text": [
      "       User_ID  Article_ID  Recommendation_Category\n",
      "14353   172650    122762.0  Most Likely to Interact\n",
      "59728   172650     91649.0  Most Likely to Interact\n",
      "7003    172650     88769.0  Most Likely to Interact\n",
      "16363   172650     12324.0  Most Likely to Interact\n",
      "0       172650     60001.0     Unlikely to Interact\n",
      "...        ...         ...                      ...\n",
      "67963   576299    103852.0     Unlikely to Interact\n",
      "67976   139059     55792.0     Unlikely to Interact\n",
      "68075   614505     90968.0     Unlikely to Interact\n",
      "68691   572166     53474.0     Unlikely to Interact\n",
      "69024   336254     96539.0     Unlikely to Interact\n",
      "\n",
      "[28823 rows x 3 columns]\n"
     ]
    }
   ],
   "source": [
    "N = 10  \n",
    "\n",
    "num_most_likely = int(0.50 * N)\n",
    "num_least_likely = int(0.50 * N)\n",
    "\n",
    "# Ensure we have enough data in each category (this step is important for smaller datasets)\n",
    "def recommend_for_user(user_id, user_recommendations):\n",
    "    # Filter for the given user\n",
    "    user_most_likely = user_recommendations[user_recommendations['User_ID'] == user_id]\n",
    "    \n",
    "    # Separate by category\n",
    "    most_likely_articles = user_most_likely[user_most_likely['Recommendation_Category'] == 'Most Likely to Interact']\n",
    "    neutral_articles = user_most_likely[user_most_likely['Recommendation_Category'] == 'Neutral to Interact']\n",
    "    least_likely_articles = user_most_likely[user_most_likely['Recommendation_Category'] == 'Unlikely to Interact']\n",
    "    \n",
    "    # Randomly sample from each category\n",
    "    most_likely_sampled = most_likely_articles.sample(n=min(num_most_likely, len(most_likely_articles)), random_state=42)\n",
    "    least_likely_sampled = least_likely_articles.sample(n=min(num_least_likely, len(least_likely_articles)), random_state=42)\n",
    "    \n",
    "    # Combine the samples\n",
    "    final_recommendations = pd.concat([most_likely_sampled, least_likely_sampled])\n",
    "    \n",
    "    return final_recommendations\n",
    "\n",
    "# Apply the recommendation logic to all users in the test set\n",
    "all_user_ids = recommendations['User_ID'].unique()\n",
    "\n",
    "final_recommendations_df = pd.DataFrame()\n",
    "\n",
    "for user_id in all_user_ids:\n",
    "    user_recommendations = recommend_for_user(user_id, recommendations)\n",
    "    final_recommendations_df = pd.concat([final_recommendations_df, user_recommendations])\n",
    "\n",
    "print(final_recommendations_df[['User_ID', 'Article_ID', 'Recommendation_Category']])"
   ]
  },
  {
   "cell_type": "code",
   "execution_count": 69,
   "id": "9aa33463",
   "metadata": {},
   "outputs": [
    {
     "name": "stdout",
     "output_type": "stream",
     "text": [
      "       Prob_No_Interaction  Prob_Interaction  User_ID  Article_ID  \\\n",
      "14353             0.185858          0.814142   172650    122762.0   \n",
      "59728             0.053135          0.946865   172650     91649.0   \n",
      "7003              0.062283          0.937717   172650     88769.0   \n",
      "16363             0.225841          0.774159   172650     12324.0   \n",
      "0                 0.368174          0.631826   172650     60001.0   \n",
      "2840              0.437187          0.562813   172650     27828.0   \n",
      "14523             0.492540          0.507460   172650     69936.0   \n",
      "39878             0.347720          0.652280   172650     44185.0   \n",
      "37816             0.374543          0.625457   172650     45931.0   \n",
      "\n",
      "       Recommendation_Category  \n",
      "14353  Most Likely to Interact  \n",
      "59728  Most Likely to Interact  \n",
      "7003   Most Likely to Interact  \n",
      "16363  Most Likely to Interact  \n",
      "0         Unlikely to Interact  \n",
      "2840      Unlikely to Interact  \n",
      "14523     Unlikely to Interact  \n",
      "39878     Unlikely to Interact  \n",
      "37816     Unlikely to Interact  \n"
     ]
    }
   ],
   "source": [
    "print(final_recommendations_df.head(9))"
   ]
  }
 ],
 "metadata": {
  "kernelspec": {
   "display_name": "Python 3 (ipykernel)",
   "language": "python",
   "name": "python3"
  },
  "language_info": {
   "codemirror_mode": {
    "name": "ipython",
    "version": 3
   },
   "file_extension": ".py",
   "mimetype": "text/x-python",
   "name": "python",
   "nbconvert_exporter": "python",
   "pygments_lexer": "ipython3",
   "version": "3.11.5"
  }
 },
 "nbformat": 4,
 "nbformat_minor": 5
}
